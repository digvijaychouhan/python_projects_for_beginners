{
 "cells": [
  {
   "cell_type": "code",
   "execution_count": 4,
   "id": "31026ea2",
   "metadata": {},
   "outputs": [
    {
     "name": "stdout",
     "output_type": "stream",
     "text": [
      "True\n",
      "False\n",
      "True\n"
     ]
    }
   ],
   "source": [
    "def is_palindrome(input_string):\n",
    "    new_string = \"\"\n",
    "    reverse_string = \"\"\n",
    "    for letter in input_string:\n",
    "        if letter != \" \":\n",
    "            new_string = new_string + letter \n",
    "            reverse_string = letter + reverse_string \n",
    "            # print(new_string)\n",
    "            # print(reverse_string)\n",
    "    if new_string.lower() == reverse_string.lower():\n",
    "        return True\n",
    "    return False\n",
    "\n",
    "print(is_palindrome(\"Never Odd or Even\")) \n",
    "print(is_palindrome(\"abc\")) # Should be False\n",
    "print(is_palindrome(\"kayak\")) # Should be True"
   ]
  },
  {
   "cell_type": "code",
   "execution_count": 2,
   "id": "4d867913",
   "metadata": {},
   "outputs": [
    {
     "name": "stdout",
     "output_type": "stream",
     "text": [
      "lesson\n",
      "\n",
      "Now\n",
      "\n"
     ]
    }
   ],
   "source": [
    "def get_word(sentence, n):\n",
    "    if n > 0:\n",
    "        words = sentence.split()\n",
    "        if n <= len(words):\n",
    "            return(words[n-1])\n",
    "    return(\"\")\n",
    "\n",
    "print(get_word(\"This is a lesson about lists\", 4)) # Should print: lesson\n",
    "print(get_word(\"This is a lesson about lists\", -4)) # Nothing\n",
    "print(get_word(\"Now we are cooking!\", 1)) # Should print: Now\n",
    "print(get_word(\"Now we are cooking!\", 5)) # Nothing"
   ]
  },
  {
   "cell_type": "code",
   "execution_count": 4,
   "id": "88b4fdb8",
   "metadata": {},
   "outputs": [
    {
     "name": "stdout",
     "output_type": "stream",
     "text": [
      "['Apple', 'Banana', 'Cherry', 'Strawberry', 'Guava']\n"
     ]
    }
   ],
   "source": [
    "fruits = [\"Apple\", \"Banana\", \"Cherry\", \"Strawberry\", \"Guava\"]\n",
    "print (fruits)"
   ]
  },
  {
   "cell_type": "code",
   "execution_count": 5,
   "id": "4a8d56d8",
   "metadata": {},
   "outputs": [
    {
     "name": "stdout",
     "output_type": "stream",
     "text": [
      "Banana\n"
     ]
    }
   ],
   "source": [
    "print (fruits[1])"
   ]
  },
  {
   "cell_type": "code",
   "execution_count": 6,
   "id": "37040786",
   "metadata": {},
   "outputs": [
    {
     "name": "stdout",
     "output_type": "stream",
     "text": [
      "['Apple', 'Banana', 'Cherry', 'Strawberry', 'Guava', 'Watermelon']\n"
     ]
    }
   ],
   "source": [
    "fruits.append(\"Watermelon\")\n",
    "print(fruits)"
   ]
  },
  {
   "cell_type": "code",
   "execution_count": 7,
   "id": "2b57a963",
   "metadata": {},
   "outputs": [
    {
     "name": "stdout",
     "output_type": "stream",
     "text": [
      "['Apple', 'Banana', 'Strawberry', 'Guava', 'Watermelon']\n"
     ]
    }
   ],
   "source": [
    "fruits.remove(\"Cherry\")\n",
    "print(fruits)"
   ]
  },
  {
   "cell_type": "code",
   "execution_count": 8,
   "id": "e864503b",
   "metadata": {},
   "outputs": [
    {
     "data": {
      "text/plain": [
       "'Strawberry'"
      ]
     },
     "execution_count": 8,
     "metadata": {},
     "output_type": "execute_result"
    }
   ],
   "source": [
    "fruits.pop(2)"
   ]
  },
  {
   "cell_type": "code",
   "execution_count": 9,
   "id": "aebe2aaa",
   "metadata": {},
   "outputs": [
    {
     "name": "stdout",
     "output_type": "stream",
     "text": [
      "['Apple', 'Banana', 'Guava', 'Watermelon']\n"
     ]
    }
   ],
   "source": [
    "print(fruits)"
   ]
  },
  {
   "cell_type": "code",
   "execution_count": 11,
   "id": "b8c856ba",
   "metadata": {},
   "outputs": [],
   "source": [
    "fruits[2] = \"Mango\""
   ]
  },
  {
   "cell_type": "code",
   "execution_count": 12,
   "id": "fdd30679",
   "metadata": {},
   "outputs": [
    {
     "name": "stdout",
     "output_type": "stream",
     "text": [
      "['Apple', 'Banana', 'Mango', 'Watermelon']\n"
     ]
    }
   ],
   "source": [
    "print(fruits)"
   ]
  },
  {
   "cell_type": "code",
   "execution_count": 13,
   "id": "522f651f",
   "metadata": {},
   "outputs": [
    {
     "name": "stdout",
     "output_type": "stream",
     "text": [
      "['Apple', 'Banana', 'Mango', 'Blackberry', 'Watermelon']\n"
     ]
    }
   ],
   "source": [
    "fruits.insert(3, \"Blackberry\")\n",
    "print(fruits)"
   ]
  },
  {
   "cell_type": "code",
   "execution_count": 15,
   "id": "92f77435",
   "metadata": {},
   "outputs": [
    {
     "name": "stdout",
     "output_type": "stream",
     "text": [
      "[7, 14, 21, 28, 35, 42, 49, 56, 63, 70]\n"
     ]
    }
   ],
   "source": [
    "multiples = []\n",
    "for x in range(1, 11):\n",
    "    multiples.append(x*7)\n",
    "print (multiples)"
   ]
  },
  {
   "cell_type": "code",
   "execution_count": 17,
   "id": "9d3d16f8",
   "metadata": {},
   "outputs": [
    {
     "name": "stdout",
     "output_type": "stream",
     "text": [
      "[6, 12, 18, 24, 30, 36, 42, 48, 54, 60]\n"
     ]
    }
   ],
   "source": [
    "multiples = [ x*6 for x in range(1, 11)]\n",
    "print (multiples)"
   ]
  },
  {
   "cell_type": "code",
   "execution_count": 19,
   "id": "fed90eb7",
   "metadata": {},
   "outputs": [
    {
     "name": "stdout",
     "output_type": "stream",
     "text": [
      "[6, 4, 7, 3]\n"
     ]
    }
   ],
   "source": [
    "languages = [\"Python\", \"Perl\", \"Haskell\", \"PHP\"]\n",
    "lenghts = [len(language) for language in languages]\n",
    "print(lenghts)"
   ]
  },
  {
   "cell_type": "code",
   "execution_count": 20,
   "id": "e21ca500",
   "metadata": {},
   "outputs": [
    {
     "name": "stdout",
     "output_type": "stream",
     "text": [
      "[0, 3, 6, 9, 12, 15, 18, 21, 24, 27, 30, 33, 36, 39, 42, 45, 48, 51, 54, 57, 60, 63, 66, 69, 72, 75, 78, 81, 84, 87, 90, 93, 96, 99]\n"
     ]
    }
   ],
   "source": [
    "z = [x for x in range(0, 101) if x%3==0 ]\n",
    "print(z)"
   ]
  },
  {
   "cell_type": "code",
   "execution_count": 25,
   "id": "f80894ab",
   "metadata": {},
   "outputs": [
    {
     "name": "stdout",
     "output_type": "stream",
     "text": [
      "Ken is 30 years old and works as Chef\n",
      "Pat is 35 years old and works as Lawyer\n",
      "Amanda is 25 years old and works as Engineer\n"
     ]
    }
   ],
   "source": [
    "def guest_list(guests):\n",
    "\n",
    "    for guest in guests:\n",
    "        name, age, profession = guest\n",
    "        print(\"{} is {} years old and works as {}\".format(name, age, profession))\n",
    "\n",
    "guest_list([('Ken', 30, \"Chef\"), (\"Pat\", 35, 'Lawyer'), ('Amanda', 25, \"Engineer\")])"
   ]
  },
  {
   "cell_type": "code",
   "execution_count": 45,
   "id": "df6d6a91",
   "metadata": {},
   "outputs": [
    {
     "name": "stdout",
     "output_type": "stream",
     "text": [
      "Marketing: Mike, Karen, Jake, Tasha\n",
      "Marketing: Mike, Karen, Jake, Tasha\n",
      "Engineering: Kim, Jay, Tom\n",
      "Engineering: Kim, Jay, Tom\n",
      "Users: \n",
      "Users: \n"
     ]
    }
   ],
   "source": [
    "def group_list(group, users):\n",
    "    members = group + \": \" + \", \".join(users)\n",
    "    print (members)\n",
    "    #members = (\"{}: {}\".format(group, x))\n",
    "    return members\n",
    "\n",
    "print(group_list(\"Marketing\", [\"Mike\", \"Karen\", \"Jake\", \"Tasha\"])) # Should be \"Marketing: Mike, Karen, Jake, Tasha\"\n",
    "print(group_list(\"Engineering\", [\"Kim\", \"Jay\", \"Tom\"])) # Should be \"Engineering: Kim, Jay, Tom\"\n",
    "print(group_list(\"Users\", \"\")) # Should be \"Users:\""
   ]
  },
  {
   "cell_type": "code",
   "execution_count": 31,
   "id": "d3f22415",
   "metadata": {},
   "outputs": [
    {
     "name": "stdout",
     "output_type": "stream",
     "text": [
      "['program.c', 'stdio.h', 'sample.h', 'a.out', 'math.h', 'hpp.out']\n"
     ]
    }
   ],
   "source": [
    "filenames = [\"program.c\", \"stdio.hpp\", \"sample.hpp\", \"a.out\", \"math.hpp\", \"hpp.out\"]\n",
    "newfilenames = [] \n",
    "for filename in filenames:\n",
    "    if filename.endswith(\".hpp\"):\n",
    "        filename = filename.replace(\".hpp\", \".h\")\n",
    "        newfilenames.append(filename)\n",
    "    else:\n",
    "        newfilenames.append(filename)\n",
    "print(newfilenames) \n",
    "# Should be [\"program.c\", \"stdio.h\", \"sample.h\", \"a.out\", \"math.h\", \"hpp.out\"]"
   ]
  },
  {
   "cell_type": "code",
   "execution_count": 22,
   "id": "2d7ffa58",
   "metadata": {},
   "outputs": [
    {
     "name": "stdout",
     "output_type": "stream",
     "text": [
      "['o', 'l', 'l', 'e', 'h']\n",
      "['w', 'o', 'h']\n",
      "['e', 'r', 'a']\n",
      "['u', 'o', 'y']\n",
      "uoyay\n"
     ]
    }
   ],
   "source": [
    "def pig_latin(text):\n",
    "    say = \"\"\n",
    "    words = (text.split())\n",
    "    for word in words:\n",
    "        rev_word = list(reversed(word))\n",
    "        word =  \"\".join(rev_word) + \"ay\"\n",
    "    return word\n",
    "\n",
    "print(pig_latin(\"hello how are you\")) # Should be \"ellohay owhay reaay ouyay\"\n",
    "#print(pig_latin(\"programming in python is fun\")) # Should be \"rogrammingpay niay ythonpay siay unfay\""
   ]
  },
  {
   "cell_type": "code",
   "execution_count": null,
   "id": "27c6fc33",
   "metadata": {},
   "outputs": [],
   "source": []
  }
 ],
 "metadata": {
  "kernelspec": {
   "display_name": "Python 3",
   "language": "python",
   "name": "python3"
  },
  "language_info": {
   "codemirror_mode": {
    "name": "ipython",
    "version": 3
   },
   "file_extension": ".py",
   "mimetype": "text/x-python",
   "name": "python",
   "nbconvert_exporter": "python",
   "pygments_lexer": "ipython3",
   "version": "3.8.8"
  }
 },
 "nbformat": 4,
 "nbformat_minor": 5
}

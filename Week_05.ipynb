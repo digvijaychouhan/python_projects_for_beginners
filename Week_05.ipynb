{
 "cells": [
  {
   "cell_type": "markdown",
   "id": "7538d82c",
   "metadata": {},
   "source": [
    "# Functions"
   ]
  },
  {
   "cell_type": "code",
   "execution_count": 1,
   "id": "03564e05",
   "metadata": {},
   "outputs": [
    {
     "name": "stdout",
     "output_type": "stream",
     "text": [
      "Name: John Doe\n",
      "Age: 45\n",
      "Name: John Doe\n",
      "Age: 45\n"
     ]
    }
   ],
   "source": [
    "# writing first function\n",
    "def printInfo():\n",
    "    print(\"Name: John Doe\")\n",
    "    print(\"Age: 45\")\n",
    "\n",
    "printInfo()\n",
    "printInfo()"
   ]
  },
  {
   "cell_type": "code",
   "execution_count": 2,
   "id": "faf1ba47",
   "metadata": {},
   "outputs": [
    {
     "name": "stdout",
     "output_type": "stream",
     "text": [
      "Name: John Doe\n",
      "Name: Alister McClane\n"
     ]
    }
   ],
   "source": [
    "def printInfo(name):\n",
    "    print(\"Name: {}\".format(name))\n",
    "\n",
    "printInfo(name=\"John Doe\")\n",
    "printInfo(\"Alister McClane\")"
   ]
  },
  {
   "cell_type": "code",
   "execution_count": null,
   "id": "4af1fd1f",
   "metadata": {},
   "outputs": [],
   "source": [
    "# passing a list \n",
    "numbers1 = [2, 4, 5, 10]\n",
    "numbers2 = [1, 3, 6]\n",
    "\n",
    "def squares(nums):\n",
    "    for num in nums:\n",
    "        print(num**2)\n",
    "\n",
    "squares(numbers1)\n",
    "squares(numbers2)"
   ]
  },
  {
   "cell_type": "code",
   "execution_count": 8,
   "id": "34bac825",
   "metadata": {},
   "outputs": [
    {
     "name": "stdout",
     "output_type": "stream",
     "text": [
      "Area: 125.6\n"
     ]
    }
   ],
   "source": [
    "# setting default parameter values\n",
    "def calcArea(r, pi=31.4):\n",
    "    area = pi * (r**2)\n",
    "    print(\"Area: {}\".format(area))\n",
    "\n",
    "calcArea(2)\n"
   ]
  },
  {
   "cell_type": "code",
   "execution_count": 15,
   "id": "85d33694",
   "metadata": {},
   "outputs": [
    {
     "name": "stdout",
     "output_type": "stream",
     "text": [
      "<class 'tuple'>\n",
      "5\n",
      "True\n",
      "Bobby\n"
     ]
    }
   ],
   "source": [
    "# *args\n",
    "def outputData(name, *args):\n",
    "    print(type(args))\n",
    "    for arg in args:\n",
    "        print(arg)\n",
    "\n",
    "outputData(\"John Smith\", 5, True, \"Bobby\")"
   ]
  },
  {
   "cell_type": "code",
   "execution_count": 17,
   "id": "bed8ae4c",
   "metadata": {},
   "outputs": [
    {
     "name": "stdout",
     "output_type": "stream",
     "text": [
      "<class 'dict'>\n",
      "John Smith\n",
      "True\n"
     ]
    }
   ],
   "source": [
    "# **kwargs\n",
    "def outputData(**kwargs):\n",
    "    print(type(kwargs))\n",
    "    print(kwargs[\"name\"])\n",
    "    print(kwargs[\"b\"])\n",
    "\n",
    "outputData(name = \"John Smith\", num=5, b=True)"
   ]
  },
  {
   "cell_type": "code",
   "execution_count": 22,
   "id": "07c2eb7c",
   "metadata": {},
   "outputs": [
    {
     "name": "stdout",
     "output_type": "stream",
     "text": [
      "Enter a word: Yu\n",
      "True\n"
     ]
    }
   ],
   "source": [
    "def check(ui):\n",
    "    if ui == ui.title():\n",
    "        print (True)\n",
    "    else:\n",
    "        print(False)\n",
    "userInput = input(\"Enter a word: \")\n",
    "check(userInput)"
   ]
  },
  {
   "cell_type": "code",
   "execution_count": 27,
   "id": "75a2688b",
   "metadata": {},
   "outputs": [
    {
     "name": "stdout",
     "output_type": "stream",
     "text": [
      "Angela Yu\n"
     ]
    }
   ],
   "source": [
    "def printName(first_name = \"\", last_name = \"\"):\n",
    "    if first_name == \"\" and last_name == \"\":\n",
    "        print(\"No name passed in\")\n",
    "    else:\n",
    "        print(first_name, last_name)\n",
    "        \n",
    "printName(\"Angela\", \"Yu\")"
   ]
  },
  {
   "cell_type": "code",
   "execution_count": 32,
   "id": "355e5f97",
   "metadata": {},
   "outputs": [
    {
     "name": "stdout",
     "output_type": "stream",
     "text": [
      "True\n"
     ]
    }
   ],
   "source": [
    "# ternary operator\n",
    "\n",
    "def search(aList, yu):\n",
    "    return True if yu in aList else False\n",
    "\n",
    "result = search([\"one\", 2, \"three\"], 2)\n",
    "print(result)"
   ]
  },
  {
   "cell_type": "code",
   "execution_count": 39,
   "id": "477859bc",
   "metadata": {},
   "outputs": [
    {
     "name": "stdout",
     "output_type": "stream",
     "text": [
      "5\n"
     ]
    }
   ],
   "source": [
    "# scope\n",
    "number = 5\n",
    "def scopeTest():\n",
    "    return (number)\n",
    "\n",
    "value = scopeTest()\n",
    "print(value)"
   ]
  },
  {
   "cell_type": "code",
   "execution_count": 40,
   "id": "3fd22073",
   "metadata": {},
   "outputs": [
    {
     "name": "stdout",
     "output_type": "stream",
     "text": [
      "['Bob', 'Bill', 'Amanda']\n",
      "['Bob', 'Rich', 'Amanda']\n"
     ]
    }
   ],
   "source": [
    "names = [\"Bob\", \"Bill\", \"Amanda\"]\n",
    "print(names)\n",
    "def change(aList, name, index):\n",
    "    names[index] = name\n",
    "    return names\n",
    "change(names, \"Rich\", 1)\n",
    "print(names)"
   ]
  },
  {
   "cell_type": "markdown",
   "id": "3bcfc477",
   "metadata": {},
   "source": [
    "# Friday Project: Creating a Shopping Cart"
   ]
  },
  {
   "cell_type": "code",
   "execution_count": 14,
   "id": "74116b38",
   "metadata": {},
   "outputs": [
    {
     "name": "stdout",
     "output_type": "stream",
     "text": [
      "Your cart is empty.\n",
      "Thanks for using the program.\n"
     ]
    }
   ],
   "source": [
    "from IPython.display import clear_output\n",
    "\n",
    "cart = []\n",
    "\n",
    "def addItem(item):\n",
    "    clear_output()\n",
    "    cart.append(item)\n",
    "    print(\"{} has been added.\".format(item))\n",
    "\n",
    "def removeItem(item):\n",
    "    clear_output()\n",
    "    try:\n",
    "        cart.remove(item)\n",
    "        print(\"{} has been removed.\".format(item))\n",
    "    except:\n",
    "        print(\"Sorry could not remove that item.\")\n",
    "        \n",
    "def clearCart():\n",
    "    clear_output()\n",
    "    cart.clear()\n",
    "    print(\"Your cart is now empty.\")\n",
    "\n",
    "def showCart():\n",
    "    clear_output()\n",
    "    if cart:\n",
    "        print(\"Here is your cart:\")\n",
    "        for item in cart:\n",
    "            print(\"- {}\".format(item))\n",
    "    else:\n",
    "        print(\"Your cart is empty.\")\n",
    "\n",
    "def main():\n",
    "    done = False\n",
    "    while not done:\n",
    "        ans = input(\"What would you like to do (add/remove/clear/show): \")\n",
    "        if ans == \"quit\":\n",
    "            done = True\n",
    "            showCart()\n",
    "            print(\"Thanks for using the program.\")\n",
    "        elif ans == \"add\":\n",
    "            item = input(\"What would you like to add: \").title()\n",
    "            addItem(item)\n",
    "        elif ans == \"remove\":\n",
    "            item = input(\"Enter an item to remove: \").title()\n",
    "            removeItem(item)\n",
    "        elif ans == \"clear\":\n",
    "            clearCart()\n",
    "        elif ans == \"show\":\n",
    "            showCart()\n",
    "        else:\n",
    "            print(\"Sorry not a valid choice.\")\n",
    "\n",
    "main()"
   ]
  },
  {
   "cell_type": "code",
   "execution_count": null,
   "id": "63239618",
   "metadata": {},
   "outputs": [],
   "source": []
  }
 ],
 "metadata": {
  "kernelspec": {
   "display_name": "Python 3 (ipykernel)",
   "language": "python",
   "name": "python3"
  },
  "language_info": {
   "codemirror_mode": {
    "name": "ipython",
    "version": 3
   },
   "file_extension": ".py",
   "mimetype": "text/x-python",
   "name": "python",
   "nbconvert_exporter": "python",
   "pygments_lexer": "ipython3",
   "version": "3.9.12"
  }
 },
 "nbformat": 4,
 "nbformat_minor": 5
}

{
 "cells": [
  {
   "cell_type": "markdown",
   "id": "924eff95",
   "metadata": {},
   "source": [
    "# WEEK 01"
   ]
  },
  {
   "cell_type": "code",
   "execution_count": 1,
   "id": "e54c10df",
   "metadata": {},
   "outputs": [
    {
     "name": "stdout",
     "output_type": "stream",
     "text": [
      "Hello World!\n"
     ]
    }
   ],
   "source": [
    "# this is python\n",
    "print(\"Hello World!\")"
   ]
  },
  {
   "cell_type": "markdown",
   "id": "65d5624a",
   "metadata": {},
   "source": [
    "# GUESSING GAME"
   ]
  },
  {
   "cell_type": "code",
   "execution_count": 2,
   "id": "13aabd2b",
   "metadata": {},
   "outputs": [
    {
     "name": "stdout",
     "output_type": "stream",
     "text": [
      "Congrat!, You guessed it Correctly.\n",
      "It took you 6 guesses!\n"
     ]
    }
   ],
   "source": [
    "# guessing game\n",
    "from random import randint\n",
    "from IPython.display import clear_output\n",
    "\n",
    "guessed = 0\n",
    "guesses = 0\n",
    "number = randint(1, 100)\n",
    "\n",
    "while not guessed:\n",
    "    try:\n",
    "        user_input = int(input(\"Try to guess the two digit I am thinking of! \"))\n",
    "        guesses += 1\n",
    "        clear_output()\n",
    "        if user_input == number:\n",
    "            print(\"Congrat!, You guessed it Correctly.\")\n",
    "            print(\"It took you {} guesses!\".format(guesses))\n",
    "            break\n",
    "        elif user_input > number:\n",
    "            print(\"The number is lower number than what you guessed.\")\n",
    "        elif user_input < number:\n",
    "            print(\"The number is higher number than what you guessed.\")\n",
    "    except:\n",
    "        print(\"Enter a valid number.\")\n"
   ]
  }
 ],
 "metadata": {
  "kernelspec": {
   "display_name": "Python 3 (ipykernel)",
   "language": "python",
   "name": "python3"
  },
  "language_info": {
   "codemirror_mode": {
    "name": "ipython",
    "version": 3
   },
   "file_extension": ".py",
   "mimetype": "text/x-python",
   "name": "python",
   "nbconvert_exporter": "python",
   "pygments_lexer": "ipython3",
   "version": "3.9.12"
  }
 },
 "nbformat": 4,
 "nbformat_minor": 5
}

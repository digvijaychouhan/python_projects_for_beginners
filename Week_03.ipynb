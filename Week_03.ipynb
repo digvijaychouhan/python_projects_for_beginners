{
 "cells": [
  {
   "cell_type": "markdown",
   "id": "b9fb2fbb",
   "metadata": {},
   "source": [
    "# WEEK 03"
   ]
  },
  {
   "cell_type": "code",
   "execution_count": 40,
   "id": "c76f643c",
   "metadata": {},
   "outputs": [
    {
     "name": "stdout",
     "output_type": "stream",
     "text": [
      "Type a number to add: 12\n",
      "<class 'str'>\n",
      "100 + 12 = 112\n"
     ]
    }
   ],
   "source": [
    "# working with user input to perform calculations\n",
    "ans = input(\"Type a number to add: \")\n",
    "print(type(ans))\n",
    "\n",
    "result = 100 + int(ans)\n",
    "print(\"100 + {} = {}\".format(ans,result))"
   ]
  },
  {
   "cell_type": "code",
   "execution_count": 6,
   "id": "d7e84fb2",
   "metadata": {},
   "outputs": [
    {
     "name": "stdout",
     "output_type": "stream",
     "text": [
      "Type a number to add: asd\n",
      "You did not put in a valid number!\n",
      "Program did not break\n"
     ]
    }
   ],
   "source": [
    "# using try catch block\n",
    "try:\n",
    "    ans = float(input(\"Type a number to add: \"))\n",
    "    print(\"100 + {} = {}\".format(ans, 100 + ans))\n",
    "except:\n",
    "    print(\"You did not put in a valid number!\")\n",
    "print(\"Program did not break\")"
   ]
  },
  {
   "cell_type": "code",
   "execution_count": 9,
   "id": "82929a67",
   "metadata": {},
   "outputs": [
    {
     "name": "stdout",
     "output_type": "stream",
     "text": [
      "<class 'str'>\n",
      "True\n",
      "<class 'bool'>\n"
     ]
    }
   ],
   "source": [
    "st1 = \"True\"\n",
    "print(type(st1))\n",
    "st2 = bool(st1)\n",
    "print(str(st2))\n",
    "print(type(st2))"
   ]
  },
  {
   "cell_type": "code",
   "execution_count": 15,
   "id": "cbbee63c",
   "metadata": {},
   "outputs": [
    {
     "name": "stdout",
     "output_type": "stream",
     "text": [
      "Enter to numbers to add\n",
      "Enter 1st number: 45\n",
      "Enter 2nd number: 6\n",
      "Addition of 45 + 6 = 51\n"
     ]
    }
   ],
   "source": [
    "try:\n",
    "    print(\"Enter to numbers to add\")\n",
    "    \n",
    "    num1 = int(input(\"Enter 1st number: \"))\n",
    "    num2 = int(input(\"Enter 2nd number: \"))\n",
    "    result = num1 + num2\n",
    "    \n",
    "    print(\"Addition of {} + {} = {}\".format(num1, num2, result))\n",
    "\n",
    "except:\n",
    "    print(\"Invalid input\")"
   ]
  },
  {
   "cell_type": "code",
   "execution_count": 17,
   "id": "12bc3030",
   "metadata": {},
   "outputs": [
    {
     "name": "stdout",
     "output_type": "stream",
     "text": [
      "Enter a sentence or phrase:  life goes on and on \n",
      "Sentence containes 'es'\n"
     ]
    }
   ],
   "source": [
    "word = input(\"Enter a sentence or phrase:  \")\n",
    "if \"es\" in word:\n",
    "    print(\"Sentence containes 'es'\")\n",
    "else:\n",
    "    print(\"Sentence do not contain 'es'\")"
   ]
  },
  {
   "cell_type": "code",
   "execution_count": 24,
   "id": "f8354a04",
   "metadata": {},
   "outputs": [
    {
     "name": "stdout",
     "output_type": "stream",
     "text": [
      "Enter a sentence or phrase ending with 'ing':  long something is not better\n",
      "ter\n",
      "Sentence do not contain 'ing'\n"
     ]
    }
   ],
   "source": [
    "word = input(\"Enter a sentence or phrase ending with 'ing':  \")\n",
    "# print(word[-3:])\n",
    "if word[-3:] == \"ing\":\n",
    "    print(\"Sentence containes 'ing'\")\n",
    "else:\n",
    "    print(\"Sentence do not contain 'ing'\")"
   ]
  },
  {
   "cell_type": "code",
   "execution_count": 26,
   "id": "e9a27f85",
   "metadata": {},
   "outputs": [
    {
     "name": "stdout",
     "output_type": "stream",
     "text": [
      "Enter a number: 101\n",
      "Number is greater than 100\n"
     ]
    }
   ],
   "source": [
    "num = int(input(\"Enter a number: \"))\n",
    "if num > 100:\n",
    "    print(\"Number is greater than 100\")\n",
    "else: \n",
    "    print(\"Number is lower than 100\")"
   ]
  },
  {
   "cell_type": "code",
   "execution_count": 33,
   "id": "6c2219b2",
   "metadata": {},
   "outputs": [
    {
     "name": "stdout",
     "output_type": "stream",
     "text": [
      "Enter the time of the day in military time(e.g. 1100 = 11:00AM): 1248\n",
      "Good Afternon\n"
     ]
    }
   ],
   "source": [
    "input_time = int(input(\"Enter the time of the day in military time(e.g. 1100 = 11:00AM): \"))\n",
    "# print(input_time)\n",
    "if input_time < 1200:\n",
    "    print(\"Good Morning\")\n",
    "elif input_time >= 1200 and input_time < 1700:\n",
    "    print(\"Good Afternon\")\n",
    "elif input_time > 1700: \n",
    "    print(\"Good Evening\")\n",
    "    "
   ]
  },
  {
   "cell_type": "markdown",
   "id": "13ecfcf2",
   "metadata": {},
   "source": [
    "# SIMPLE CALCULATOR"
   ]
  },
  {
   "cell_type": "code",
   "execution_count": 39,
   "id": "30c0eac8",
   "metadata": {},
   "outputs": [
    {
     "name": "stdout",
     "output_type": "stream",
     "text": [
      "Would you like to add/subtract/multiply/divide? add\n",
      "Enter first number: 2\n",
      "Enter second number: 2\n",
      "2.0 + 2.0 = 4.0\n"
     ]
    }
   ],
   "source": [
    "# Day_03 Friday Project\n",
    "operation = input(\"Would you like to add/subtract/multiply/divide? \").lower()\n",
    "\n",
    "if operation == \"subtract\" or operation == \"divide\":\n",
    "    print(\"You chose {}.\".format(operation))\n",
    "    print(\"Please keep in mind that order of numbers matter.\")\n",
    "\n",
    "num1 = input(\"Enter first number: \")\n",
    "num2 = input(\"Enter second number: \")\n",
    "\n",
    "try:\n",
    "    num1, num2 = float(num1), float(num2)\n",
    "    \n",
    "    if operation == \"add\":\n",
    "        print(\"{} + {} = {}\".format(num1, num2, (num1 + num2)) )\n",
    "    elif operation == \"subtract\":\n",
    "        print(\"{} - {} = {}\".format(num1, num2, (num1 - num2)) )\n",
    "    elif operation == \"multiply\":\n",
    "        print(\"{} * {} = {}\".format(num1, num2, (num1 * num2)) )\n",
    "    elif operation == \"divide\":\n",
    "        print(\"{} / {} = {}\".format(num1, num2, (num1 / num2)) )\n",
    "except:\n",
    "    print(\"Error: Improper numbers used. Please try again.\")\n",
    "    \n",
    "\n"
   ]
  },
  {
   "cell_type": "code",
   "execution_count": 43,
   "id": "14717091",
   "metadata": {},
   "outputs": [
    {
     "name": "stdout",
     "output_type": "stream",
     "text": [
      "Would you like to add/subtract/multiply/divide? subtract\n",
      "Enter first number: 11\n",
      "Enter second number: 21\n",
      "First number is smaller than second and you chose subtract.\n",
      "Do you wish to reverse the order(Y or N): y\n",
      "21.0 - 11.0 = 10.0\n"
     ]
    }
   ],
   "source": [
    "# Day_03 Friday Project with reverse placement of numbers\n",
    "operation = input(\"Would you like to add/subtract/multiply/divide? \").lower()\n",
    "num1 = float(input(\"Enter first number: \"))\n",
    "num2 = float(input(\"Enter second number: \"))\n",
    "\n",
    "if num1 < num2 and operation == \"subtract\" or operation == \"divide\":\n",
    "    print(\"First number is smaller than second and you chose {}.\".format(operation))\n",
    "    choice = input(\"Do you wish to reverse the order(Y or N): \").lower()\n",
    "    temp = 0 \n",
    "    if choice == \"y\":\n",
    "        temp = num1\n",
    "        num1 = num2\n",
    "        num2 = temp\n",
    "\n",
    "try:\n",
    "    if operation == \"add\":\n",
    "        print(\"{} + {} = {}\".format(num1, num2, (num1 + num2)) )\n",
    "    elif operation == \"subtract\":\n",
    "        print(\"{} - {} = {}\".format(num1, num2, (num1 - num2)) )\n",
    "    elif operation == \"multiply\":\n",
    "        print(\"{} * {} = {}\".format(num1, num2, (num1 * num2)) )\n",
    "    elif operation == \"divide\":\n",
    "        print(\"{} / {} = {}\".format(num1, num2, (num1 / num2)) )\n",
    "except:\n",
    "    print(\"Error: Improper numbers used. Please try again.\")\n",
    "    \n"
   ]
  },
  {
   "cell_type": "code",
   "execution_count": null,
   "id": "ab698aec",
   "metadata": {},
   "outputs": [],
   "source": []
  }
 ],
 "metadata": {
  "kernelspec": {
   "display_name": "Python 3 (ipykernel)",
   "language": "python",
   "name": "python3"
  },
  "language_info": {
   "codemirror_mode": {
    "name": "ipython",
    "version": 3
   },
   "file_extension": ".py",
   "mimetype": "text/x-python",
   "name": "python",
   "nbconvert_exporter": "python",
   "pygments_lexer": "ipython3",
   "version": "3.9.12"
  }
 },
 "nbformat": 4,
 "nbformat_minor": 5
}

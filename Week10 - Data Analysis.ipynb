{
 "cells": [
  {
   "cell_type": "markdown",
   "id": "0e3168d2",
   "metadata": {},
   "source": [
    "\n",
    "### Sending Request usign Requests module"
   ]
  },
  {
   "cell_type": "code",
   "execution_count": 1,
   "id": "b068e955",
   "metadata": {},
   "outputs": [
    {
     "name": "stdout",
     "output_type": "stream",
     "text": [
      "<Response [200]>\n",
      "<class 'requests.models.Response'>\n"
     ]
    }
   ],
   "source": [
    "# sending request and logging the response code\n",
    "\n",
    "import requests\n",
    "res = requests.get(url='http://api.github.com/users/digvijaychouhan')\n",
    "print(res)\n",
    "print(type(res))"
   ]
  },
  {
   "cell_type": "code",
   "execution_count": null,
   "id": "a850fb34",
   "metadata": {},
   "outputs": [],
   "source": [
    "# accessing the requested content from URL\n",
    "data = res.content\n",
    "print(data)"
   ]
  },
  {
   "cell_type": "code",
   "execution_count": null,
   "id": "21b5b4bc",
   "metadata": {},
   "outputs": [],
   "source": [
    "# converting the received data from JSON to Python dictionary\n",
    "data = res.json()\n",
    "for k, v in data.items():\n",
    "    print(\"Key: {} \\t Value: {}\".format(k, v))"
   ]
  },
  {
   "cell_type": "code",
   "execution_count": null,
   "id": "5a1f9114",
   "metadata": {},
   "outputs": [],
   "source": [
    "# accessing data directly\n",
    "print(data['name'])"
   ]
  },
  {
   "cell_type": "code",
   "execution_count": null,
   "id": "4ddb15f4",
   "metadata": {},
   "outputs": [],
   "source": [
    "# passing additional parameters in URL\n",
    "response = requests.get('http://api.github.com/search/repositories?q=language:python')\n",
    "repo_data= response.json()\n",
    "print(repo_data['total_count'])"
   ]
  },
  {
   "cell_type": "code",
   "execution_count": null,
   "id": "e70e97ef",
   "metadata": {},
   "outputs": [],
   "source": [
    "# passing parameters as separate argument\n",
    "response = requests.get(url='http://api.github.com/search/repositories', params='q=language:javascript')\n",
    "repo_data= response.json()\n",
    "print(repo_data['total_count']) # outputting specific data"
   ]
  },
  {
   "cell_type": "markdown",
   "id": "fde22460",
   "metadata": {},
   "source": [
    "## Pandas\n",
    "Pandas is flexible data analysis library writtern in 'C'. It makes working with tabular data easier in Python. Pandas is a mix of Excel and SQL."
   ]
  },
  {
   "cell_type": "code",
   "execution_count": null,
   "id": "35ab8eb1",
   "metadata": {},
   "outputs": [],
   "source": [
    "# importing the pandas library and naming per standard convention i.e. 'pd'\n",
    "import pandas as pd\n",
    "import random \n",
    "random.seed(3)   # gives same random number to work each time\n",
    "\n",
    "names = ['Jai', 'Akash', 'Amit', 'Sumit', 'Billy', 'Dev', 'Kumar']\n",
    "ages = [random.randint(18, 35) for x in range(len(names))]\n",
    "people = {\n",
    "    'names': names, \n",
    "    'ages': ages\n",
    "}\n",
    "\n",
    "# using from_dict method to convert a dictionary into a DataFrame\n",
    "df = pd.DataFrame.from_dict(people)   \n",
    "print(df)"
   ]
  },
  {
   "cell_type": "code",
   "execution_count": null,
   "id": "59248948",
   "metadata": {},
   "outputs": [],
   "source": [
    "# accessing data in DataFrame using indexing by column\n",
    "print(df['ages'])"
   ]
  },
  {
   "cell_type": "code",
   "execution_count": null,
   "id": "0b29e6cc",
   "metadata": {},
   "outputs": [],
   "source": [
    "# accessing specific column value in data \n",
    "print(df['ages'][3])"
   ]
  },
  {
   "cell_type": "code",
   "execution_count": null,
   "id": "9dbafbad",
   "metadata": {},
   "outputs": [],
   "source": [
    "# accesing data using indexing by record or row. \n",
    "print(df.loc[0])    # gives first row of data"
   ]
  },
  {
   "cell_type": "code",
   "execution_count": null,
   "id": "a05fc2fc",
   "metadata": {},
   "outputs": [],
   "source": [
    "# accessing specific column using indexing by record\n",
    "print(df.loc[0]['names'])"
   ]
  },
  {
   "cell_type": "code",
   "execution_count": null,
   "id": "2adf6ffa",
   "metadata": {},
   "outputs": [],
   "source": [
    "df.loc[0]['ages']"
   ]
  },
  {
   "cell_type": "code",
   "execution_count": null,
   "id": "57497a0e",
   "metadata": {},
   "outputs": [],
   "source": [
    "# slicing a DataFrame\n",
    "df[2:5]"
   ]
  },
  {
   "cell_type": "code",
   "execution_count": null,
   "id": "15547224",
   "metadata": {},
   "outputs": [],
   "source": [
    "df[:]"
   ]
  },
  {
   "cell_type": "code",
   "execution_count": null,
   "id": "ecd7eaa6",
   "metadata": {},
   "outputs": [],
   "source": [
    "# reversing the output\n",
    "df[::-1]"
   ]
  },
  {
   "cell_type": "code",
   "execution_count": null,
   "id": "cd48e79c",
   "metadata": {},
   "outputs": [],
   "source": [
    "# output last three records of DataFrame\n",
    "print(df.tail(3))"
   ]
  },
  {
   "cell_type": "code",
   "execution_count": null,
   "id": "d81c21d4",
   "metadata": {},
   "outputs": [],
   "source": [
    "# getting the column headers using keys() method\n",
    "headers = df.keys()\n",
    "print(headers)"
   ]
  },
  {
   "cell_type": "code",
   "execution_count": null,
   "id": "74df9256",
   "metadata": {},
   "outputs": [],
   "source": [
    "# getting the size of DataFrame in rows and columns\n",
    "df.shape"
   ]
  },
  {
   "cell_type": "code",
   "execution_count": null,
   "id": "f63ea092",
   "metadata": {},
   "outputs": [],
   "source": [
    "# checking general statistics of DataFrame using .describe(), it gives base analysis for all numerical data.\n",
    "df.describe()"
   ]
  },
  {
   "cell_type": "code",
   "execution_count": null,
   "id": "2f7f9033",
   "metadata": {},
   "outputs": [],
   "source": [
    "# sorting data on column values\n",
    "df = df.sort_values('ages')\n",
    "df.head()"
   ]
  },
  {
   "cell_type": "code",
   "execution_count": null,
   "id": "b49bc079",
   "metadata": {},
   "outputs": [],
   "source": [
    "# filter using condition\n",
    "can_drink = df['ages'] > 21\n",
    "print(can_drink)"
   ]
  },
  {
   "cell_type": "code",
   "execution_count": null,
   "id": "fd041931",
   "metadata": {},
   "outputs": [],
   "source": [
    "# filter values using subsetting\n",
    "df[df['ages'] > 21]"
   ]
  },
  {
   "cell_type": "code",
   "execution_count": null,
   "id": "579bbed2",
   "metadata": {},
   "outputs": [],
   "source": [
    "# returns top five records by default\n",
    "df.head()"
   ]
  },
  {
   "cell_type": "code",
   "execution_count": null,
   "id": "5393e9d6",
   "metadata": {},
   "outputs": [],
   "source": [
    "# generating new column with data \n",
    "random.seed(321)\n",
    "tenure = [random.randint(0, 10) for x in range(len(df))]\n",
    "# print(tenure)\n",
    "df['tenure'] = tenure\n",
    "df.head()"
   ]
  },
  {
   "cell_type": "code",
   "execution_count": null,
   "id": "ec58eff3",
   "metadata": {},
   "outputs": [],
   "source": [
    "# using apply() to create new column\n",
    "def ageGroup(age):\n",
    "    return \"Teenager\" if age < 21 else \"Adult\"\n",
    "df['age_group'] = df['ages'].apply(ageGroup)\n",
    "df.head(10)"
   ]
  },
  {
   "cell_type": "code",
   "execution_count": null,
   "id": "360bc031",
   "metadata": {},
   "outputs": [],
   "source": [
    "# groupby() method to summarize statistics\n",
    "df.groupby('age_group', as_index=False).count()"
   ]
  },
  {
   "cell_type": "code",
   "execution_count": null,
   "id": "1f71177b",
   "metadata": {},
   "outputs": [],
   "source": [
    "# using mean on groupby()\n",
    "df.groupby('age_group', as_index=False).mean()"
   ]
  },
  {
   "cell_type": "code",
   "execution_count": null,
   "id": "1bad7b77",
   "metadata": {},
   "outputs": [],
   "source": [
    "df.groupby(['age_group', 'tenure'], as_index=False).count().head(10)"
   ]
  },
  {
   "cell_type": "code",
   "execution_count": null,
   "id": "26886e83",
   "metadata": {},
   "outputs": [],
   "source": [
    "# adding new reocord in DataFrame\n",
    "df.loc[7] = ['Jai', 35, 5, \"Adult\"]"
   ]
  },
  {
   "cell_type": "code",
   "execution_count": null,
   "id": "3e5dd78b",
   "metadata": {},
   "outputs": [],
   "source": [
    "df.loc[7]"
   ]
  },
  {
   "cell_type": "code",
   "execution_count": null,
   "id": "096b9bf0",
   "metadata": {},
   "outputs": [],
   "source": [
    "df.head(10)"
   ]
  },
  {
   "cell_type": "code",
   "execution_count": null,
   "id": "1a145a8d",
   "metadata": {},
   "outputs": [],
   "source": [
    "df = df.drop_duplicates(subset='names')"
   ]
  },
  {
   "cell_type": "code",
   "execution_count": null,
   "id": "1b00ee11",
   "metadata": {},
   "outputs": [],
   "source": [
    "df.head(10)"
   ]
  },
  {
   "cell_type": "markdown",
   "id": "452429fc",
   "metadata": {},
   "source": [
    "## Pandas Join"
   ]
  },
  {
   "cell_type": "code",
   "execution_count": null,
   "id": "d7092f03",
   "metadata": {},
   "outputs": [],
   "source": [
    "# Creating a second DataFrame \n",
    "\n",
    "ratings = {\n",
    "    \"names\": ['Amit', 'Billy', 'Jai'],\n",
    "    \"ratings\": [10, 9, 6]\n",
    "}\n",
    "\n",
    "rating = df.from_dict(ratings)\n",
    "rating.head()"
   ]
  },
  {
   "cell_type": "code",
   "execution_count": null,
   "id": "b7863a01",
   "metadata": {},
   "outputs": [],
   "source": [
    "# inner join \n",
    "matched_ratings = df.merge(rating, on='names', how='inner')"
   ]
  },
  {
   "cell_type": "code",
   "execution_count": null,
   "id": "2e215af3",
   "metadata": {},
   "outputs": [],
   "source": [
    "matched_ratings.head()"
   ]
  },
  {
   "cell_type": "code",
   "execution_count": null,
   "id": "53b8fb6c",
   "metadata": {},
   "outputs": [],
   "source": [
    "# outer join \n",
    "all_ratings = df.merge(rating, on='names', how='outer')\n",
    "all_ratings.head()"
   ]
  },
  {
   "cell_type": "markdown",
   "id": "97c70116",
   "metadata": {},
   "source": []
  },
  {
   "cell_type": "code",
   "execution_count": null,
   "id": "ed23a17b",
   "metadata": {},
   "outputs": [],
   "source": [
    "nf = pd.read_csv(\"netflix1.csv\")\n",
    "nf.head()"
   ]
  },
  {
   "cell_type": "code",
   "execution_count": null,
   "id": "a4563cf7",
   "metadata": {},
   "outputs": [],
   "source": [
    "nf.keys()"
   ]
  },
  {
   "cell_type": "code",
   "execution_count": null,
   "id": "554c5868",
   "metadata": {},
   "outputs": [],
   "source": [
    "nf.shape"
   ]
  },
  {
   "cell_type": "code",
   "execution_count": null,
   "id": "d0d8c0e8",
   "metadata": {},
   "outputs": [],
   "source": [
    "nf.describe()"
   ]
  },
  {
   "cell_type": "markdown",
   "id": "cb7d69c2",
   "metadata": {},
   "source": [
    "# Matplotlib"
   ]
  },
  {
   "cell_type": "code",
   "execution_count": null,
   "id": "536045e7",
   "metadata": {},
   "outputs": [],
   "source": [
    "from matplotlib import pyplot as plt"
   ]
  },
  {
   "cell_type": "markdown",
   "id": "f6bea69f",
   "metadata": {},
   "source": [
    "### Line Chart"
   ]
  },
  {
   "cell_type": "code",
   "execution_count": null,
   "id": "4cc4f5da",
   "metadata": {},
   "outputs": [],
   "source": [
    "# creating a line plot chart using x and y coords\n",
    "\n",
    "x, y = [1600, 1700, 1800, 1900, 2000], [0.2, 0.5, 1.1, 2.2, 7.7]\n",
    "plt.plot(x, y)\n",
    "plt.title(\"World Population Over Time\")\n",
    "plt.xlabel(\"Year\")\n",
    "plt.ylabel(\"Population(billions)\")\n",
    "plt.show()"
   ]
  },
  {
   "cell_type": "code",
   "execution_count": null,
   "id": "66bc275a",
   "metadata": {},
   "outputs": [],
   "source": [
    "# creating a line plot chart with multiple lines \n",
    "\n",
    "x1, y1 = [1600, 1700, 1800, 1900, 2000], [0.2, 0.5, 1.1, 2.2, 7.7]\n",
    "x2, y2 = [1600, 1700, 1800, 1900, 2000], [1, 1, 2, 3, 4]\n",
    "plt.plot(x1, y1, \"rx-\", label=\"Actual\")\n",
    "plt.plot(x2, y2, \"bo--\", label=\"Fake\")\n",
    "\n",
    "plt.title(\"World Population Over Time\")\n",
    "plt.xlabel(\"Year\")\n",
    "plt.ylabel(\"Population(billions)\")\n",
    "plt.legend()\n",
    "plt.show()"
   ]
  },
  {
   "cell_type": "markdown",
   "id": "2c1141cd",
   "metadata": {},
   "source": [
    "### Bar plot"
   ]
  },
  {
   "cell_type": "code",
   "execution_count": null,
   "id": "7a06cc7b",
   "metadata": {},
   "outputs": [],
   "source": [
    "# creating a bar plot using x and y coords\n",
    "\n",
    "num_of_people, category = [4, 8, 3, 6, 2], ['Comedy', 'Action', 'Thriller', 'Romance', 'Horror']\n",
    "plt.bar(category, num_of_people)\n",
    "plt.title(\"Favorite Movie Category\", fontsize=16)\n",
    "plt.xlabel(\"Category\", fontsize=14)\n",
    "plt.ylabel(\"# of People\", fontsize=14)\n",
    "plt.xticks(fontname=\"Fantasy\")\n",
    "plt.yticks(fontname=\"Fantasy\")\n",
    "plt.show()"
   ]
  },
  {
   "cell_type": "markdown",
   "id": "56e0ee72",
   "metadata": {},
   "source": [
    "### Box plot"
   ]
  },
  {
   "cell_type": "code",
   "execution_count": null,
   "id": "cae43463",
   "metadata": {},
   "outputs": [],
   "source": [
    "#  creating a box plot - showing height data for male-female\n",
    "\n",
    "male, female = [72, 68, 65, 77, 71, 69], [60, 65, 69, 61, 63, 64]\n",
    "heights = [male, female]\n",
    "plt.figure(figsize=(15,8))\n",
    "plt.boxplot(heights)\n",
    "plt.xticks([1, 2], [\"Male\", \"Female\"])\n",
    "plt.title(\"Heights by Gender\", fontsize=22)\n",
    "plt.xlabel(\"Gender\", fontsize=14)\n",
    "plt.ylabel(\"Heights(inches)\", fontsize=14)\n",
    "plt.show()"
   ]
  },
  {
   "cell_type": "markdown",
   "id": "6efa6c93",
   "metadata": {},
   "source": [
    "## Scatter plot"
   ]
  },
  {
   "cell_type": "code",
   "execution_count": null,
   "id": "09122754",
   "metadata": {},
   "outputs": [],
   "source": [
    "#  creating a scatter plot to represent height-weight distribution\n",
    "\n",
    "from random import randint, seed\n",
    "seed(2)\n",
    "height = [randint(58, 80) for h in range(20)]\n",
    "weight = [randint(50, 120) for w in range(20)]\n",
    "\n",
    "plt.scatter(weight, height)\n",
    "plt.title(\"Height-Weight Distribution\")\n",
    "plt.xlabel(\"Weight(kgs)\")\n",
    "plt.ylabel(\"Height(inches)\")\n",
    "plt.show()"
   ]
  },
  {
   "cell_type": "markdown",
   "id": "b0409fb9",
   "metadata": {},
   "source": [
    "## Histogram"
   ]
  },
  {
   "cell_type": "code",
   "execution_count": null,
   "id": "2d2d6f53",
   "metadata": {},
   "outputs": [],
   "source": [
    "# creating a histogram to represent distribution of age\n",
    "import numpy as np\n",
    "np.random.seed(5)\n",
    "ages = [np.random.normal(loc=40, scale=10) for x in range(1000)]\n",
    "\n",
    "plt.hist(ages, bins=45)  # bins is the number of bars\n",
    "plt.title(\"Ages per population\")\n",
    "plt.xlabel(\"Age\")\n",
    "plt.ylabel(\"# of People\")\n",
    "plt.show()"
   ]
  },
  {
   "cell_type": "code",
   "execution_count": null,
   "id": "193f1150",
   "metadata": {},
   "outputs": [],
   "source": [
    "# histogram central ditribution display\n",
    "\n",
    "udaipur = [np.random.normal(loc=60, scale=15) for x in range(1000)]\n",
    "ahmedabad = [np.random.normal(loc=35, scale=15) for x in range(1000)]\n",
    "plt.figure(figsize=(15,9))\n",
    "plt.title(\"Ages per population\", fontsize=20)\n",
    "plt.xlabel(\"Age\", fontsize=14)\n",
    "plt.ylabel(\"# of People\", fontsize=14)\n",
    "\n",
    "plt.hist(udaipur, bins=45, color=\"b\", alpha=0.4)  \n",
    "# plt.show()\n",
    "\n",
    "plt.hist(ahmedabad, bins=45, color=\"r\", alpha=0.4)\n",
    "# plt.show()\n",
    "\n",
    "plt.hist(udaipur, bins=45, color=\"b\", alpha=0.4)  \n",
    "plt.show()\n"
   ]
  },
  {
   "cell_type": "markdown",
   "id": "5443c0d8",
   "metadata": {},
   "source": [
    "## Saving the chart (Matplotlib)"
   ]
  },
  {
   "cell_type": "code",
   "execution_count": null,
   "id": "3339f2b1",
   "metadata": {},
   "outputs": [],
   "source": [
    "# using savefig method to save chart as a jpg to the local folder\n",
    "\n",
    "plt.figure(figsize=(12,8))\n",
    "x, y = [1600, 1700, 1800, 1900, 2000], [0.2, 0.5, 1.1, 2.2, 7.7]\n",
    "plt.plot(x, y, 'bo--')\n",
    "plt.title(\"World Population Over Time\")\n",
    "plt.xlabel(\"Year\")\n",
    "plt.ylabel(\"Population(billions)\")\n",
    "plt.savefig(\"population.jpg\")\n",
    "plt.show()\n"
   ]
  },
  {
   "cell_type": "markdown",
   "id": "9421ddf1",
   "metadata": {},
   "source": [
    "## Flattening Multidimensional Data"
   ]
  },
  {
   "cell_type": "code",
   "execution_count": null,
   "id": "64bc120d",
   "metadata": {},
   "outputs": [],
   "source": [
    "height = [randint(58, 78) for x in range(20)]\n",
    "weight = [randint(40, 110) for x in range(20)]\n",
    "age = [randint(18, 65) for x in range(20)]\n",
    "# plt.figure(figsize=(10, 9))\n",
    "plt.scatter(weight, height, c=age)\n",
    "plt.title(\"Height-Weight Distribution\", fontsize=20)\n",
    "plt.xlabel(\"Height(inches)\", fontsize=14)\n",
    "plt.ylabel(\"Weight(kgs)\", fontsize=14)\n",
    "plt.colorbar(label=\"Age\")\n",
    "plt.show()"
   ]
  },
  {
   "cell_type": "code",
   "execution_count": null,
   "id": "edf6b940",
   "metadata": {},
   "outputs": [],
   "source": [
    "x = sorted([randint(1, 11) for x in range(20)])\n",
    "y = sorted([randint(1, 11) for y in range(20)])\n",
    "z = sorted([randint(1, 11) for z in range(20)])\n",
    "points = [x for x in range(1, 21)]\n",
    "plt.plot(x, points, \"ro--\")\n",
    "plt.plot(y, points, \"bx-\")\n",
    "plt.plot(z, points, \"g*-\")\n",
    "plt.show()"
   ]
  },
  {
   "cell_type": "code",
   "execution_count": null,
   "id": "6edf9bb9",
   "metadata": {},
   "outputs": [],
   "source": [
    "def createBarPlot(movie, people, movie_name):\n",
    "    rating = [k for k in movie.keys()]\n",
    "    count = [v for v in movie.values()]\n",
    "    \n",
    "    plt.title(movie_name, fontsize=20)\n",
    "    \n",
    "    plt.xlabel(\"Rating\", fontsize=14)\n",
    "    plt.ylabel(\"# of People\", fontsize=14)\n",
    "    plt.xticks(fontname=\"Fantasy\")\n",
    "    plt.bar(rating, count)\n",
    "    plt.show()\n",
    "\n",
    "def main():\n",
    "    movie ={} \n",
    "    people = []\n",
    "    cnt = 0\n",
    "    to_continue = True\n",
    "\n",
    "    movie_name = input(\"What movie you are rating? \").title()\n",
    "    while to_continue:\n",
    "        cnt += 1\n",
    "\n",
    "        rating = int(input(\"What would you rate this movie (1-5)? \"))\n",
    "        if rating in movie:\n",
    "            movie[rating] += 1\n",
    "        else: \n",
    "            movie[rating] = 1\n",
    "\n",
    "        to_continue = input(\"Is ther another user that would like to review (y/n)? \")\n",
    "        if to_continue == \"n\":\n",
    "            to_continue = False\n",
    "\n",
    "        people.append(cnt)\n",
    "    createBarPlot(movie, people, movie_name)\n",
    "    \n",
    "main()\n",
    "    "
   ]
  },
  {
   "cell_type": "markdown",
   "id": "7143152f",
   "metadata": {},
   "source": [
    "## BeautifulSoup"
   ]
  },
  {
   "cell_type": "code",
   "execution_count": 2,
   "id": "b04c9246",
   "metadata": {},
   "outputs": [
    {
     "name": "stdout",
     "output_type": "stream",
     "text": [
      "<Response [200]>\n"
     ]
    }
   ],
   "source": [
    "from bs4 import BeautifulSoup\n",
    "import requests\n",
    "\n",
    "page = requests.get(\"https://arthurleej.com/e-love.html\")\n",
    "print(page)"
   ]
  },
  {
   "cell_type": "code",
   "execution_count": null,
   "id": "e3d581ac",
   "metadata": {},
   "outputs": [],
   "source": [
    "print(page.content)"
   ]
  },
  {
   "cell_type": "code",
   "execution_count": null,
   "id": "1ad4d365",
   "metadata": {},
   "outputs": [],
   "source": [
    "soup = BeautifulSoup(page.content, \"html.parser\")\n",
    "print(soup.prettify())"
   ]
  },
  {
   "cell_type": "code",
   "execution_count": null,
   "id": "b4234199",
   "metadata": {},
   "outputs": [],
   "source": [
    "title = soup.find(\"b\")\n",
    "print(title)"
   ]
  },
  {
   "cell_type": "code",
   "execution_count": null,
   "id": "78fe8158",
   "metadata": {},
   "outputs": [],
   "source": [
    "print(title.get_text())"
   ]
  },
  {
   "cell_type": "code",
   "execution_count": null,
   "id": "0ba322c6",
   "metadata": {},
   "outputs": [],
   "source": [
    "poem_text = soup.find_all(\"b\")\n",
    "for text in poem_text:\n",
    "    print(text.get_text())"
   ]
  },
  {
   "cell_type": "code",
   "execution_count": null,
   "id": "58dba817",
   "metadata": {},
   "outputs": [],
   "source": [
    "print(soup.children)"
   ]
  },
  {
   "cell_type": "code",
   "execution_count": null,
   "id": "47bf9f4b",
   "metadata": {},
   "outputs": [],
   "source": [
    "for child in soup.children:\n",
    "    print(type(child))"
   ]
  },
  {
   "cell_type": "code",
   "execution_count": null,
   "id": "94dbb6f0",
   "metadata": {},
   "outputs": [],
   "source": [
    "# to access the tag object in the children i.e. element.Tag\n",
    "html= list(soup.children)[2]\n",
    "for section in html:\n",
    "    print(\"\\n\\nStart of new section\")\n",
    "    print(section)\n",
    "\n"
   ]
  },
  {
   "cell_type": "code",
   "execution_count": null,
   "id": "6d595c09",
   "metadata": {},
   "outputs": [],
   "source": [
    "# accessing the head element\n",
    "head = list(html.children)[1]\n",
    "for item in head:\n",
    "    print(\"\\n\\nNew Tag\")\n",
    "    print(item)"
   ]
  },
  {
   "cell_type": "code",
   "execution_count": null,
   "id": "e4e09bcc",
   "metadata": {},
   "outputs": [],
   "source": [
    "title = list(head)[1]\n",
    "print(title.get_text())"
   ]
  },
  {
   "cell_type": "code",
   "execution_count": 9,
   "id": "bc897a6f",
   "metadata": {},
   "outputs": [
    {
     "name": "stdout",
     "output_type": "stream",
     "text": [
      "Study at York \n",
      "Study at York and you'll graduate with more than a qualification. \n",
      "You'll be immersed in knowledge and opportunities that will encourage you to grow and succeed. You’ll grapple with big ideas and be encouraged to think differently by academics whose research is changing the world. \n",
      "We're proud to announce that we were shortlisted for two prestigious University of the Year awards: \n",
      "Find out more about our nominations \n",
      "Online degrees at York offer the opportunity to study in a more flexible way. \n",
      "Read more \n",
      "We offer over 300 courses per year in a diverse range of subjects. \n",
      "Read more \n",
      "Learn about our massive open online courses (MOOCs), designed by York academics. \n",
      "Read more \n",
      "From the moment you arrive on campus you'll be welcomed as a member of one of our ten colleges. Through societies, sports clubs, art, music  and  college life there is always something to be part of, both on campus and in the city. \n",
      "Take our online campus tour \n",
      "Explore student life at York \n",
      "Find out about accommodation \n",
      "Discover our beautiful city \n",
      "Visit us and you'll find out why so many students choose York.  \n",
      "We're one of the UK's leading universities and a proud member of the Russell Group.  \n",
      "Find out what it's really like to study and live in York. \n",
      "Order or download your copy of our prospectus. \n",
      "University of York \n",
      "          York \n",
      "          YO10 5DD \n",
      "          United Kingdom \n",
      " \n",
      "+44 (0) 1904 320 000 \n",
      "© University of York    Legal statements  |  Privacy  |  Cookies  |  Modern slavery statement  |  Accessibility \n",
      "\n",
      " \n",
      " \n",
      " \n",
      " \n",
      " \n",
      "Modify \n"
     ]
    }
   ],
   "source": [
    "page2 = requests.get(\"https://www.york.ac.uk/study/\")\n",
    "soup2 = BeautifulSoup(page2.content, \"html.parser\")\n",
    "paras = soup2.find_all(\"p\")\n",
    "for para in paras:\n",
    "    text = para.find_all(text=True)\n",
    "    \n",
    "    output = ''\n",
    "    blacklist = [\n",
    "        '[document]',\n",
    "        'noscript',\n",
    "        'header',\n",
    "        'html',\n",
    "        'meta',\n",
    "        'head', \n",
    "        'input',\n",
    "        'script',\n",
    "        \"style\",\n",
    "        \"noscript\",\n",
    "    ]\n",
    "\n",
    "    for t in text:\n",
    "        if t.parent.name not in blacklist:\n",
    "            output += '{} '.format(t)\n",
    "\n",
    "    print(output)"
   ]
  },
  {
   "cell_type": "code",
   "execution_count": 4,
   "id": "f833e120",
   "metadata": {},
   "outputs": [
    {
     "name": "stdout",
     "output_type": "stream",
     "text": [
      "There are total 30 Football league Stadiums across US.\n"
     ]
    }
   ],
   "source": [
    "page3 = requests.get(\"https://en.wikipedia.org/wiki/List_of_current_National_Football_League_stadiums\")\n",
    "soup3 = BeautifulSoup(page3.content, \"html.parser\")\n",
    "\n",
    "stadium_names = []\n",
    "rows = soup3.select(\"table\")[0].find(\"tbody\").find_all(\"tr\")\n",
    "for row in rows:\n",
    "    cells= row.find_all(\"th\", scope=\"row\")\n",
    "    for cell in cells:\n",
    "        name = cell.find(\"a\")\n",
    "        stadium_names.append(name)\n",
    "#         print(name.get_text())\n",
    "\n",
    "print(f\"There are total {len(stadium_names)} Football league Stadiums across US.\")"
   ]
  },
  {
   "cell_type": "code",
   "execution_count": null,
   "id": "152bd839",
   "metadata": {},
   "outputs": [],
   "source": []
  }
 ],
 "metadata": {
  "kernelspec": {
   "display_name": "Python 3",
   "language": "python",
   "name": "python3"
  },
  "language_info": {
   "codemirror_mode": {
    "name": "ipython",
    "version": 3
   },
   "file_extension": ".py",
   "mimetype": "text/x-python",
   "name": "python",
   "nbconvert_exporter": "python",
   "pygments_lexer": "ipython3",
   "version": "3.8.8"
  }
 },
 "nbformat": 4,
 "nbformat_minor": 5
}

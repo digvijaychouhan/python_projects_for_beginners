{
 "cells": [
  {
   "cell_type": "markdown",
   "id": "fdee19e4",
   "metadata": {},
   "source": [
    "# WEEK 02"
   ]
  },
  {
   "cell_type": "code",
   "execution_count": 73,
   "id": "5a7f4a26",
   "metadata": {},
   "outputs": [
    {
     "name": "stdout",
     "output_type": "stream",
     "text": [
      "Digvijay\n"
     ]
    }
   ],
   "source": [
    "print(\"Digvijay\")"
   ]
  },
  {
   "cell_type": "code",
   "execution_count": 2,
   "id": "ca84eee3",
   "metadata": {},
   "outputs": [
    {
     "name": "stdout",
     "output_type": "stream",
     "text": [
      "<class 'int'>\n",
      "<class 'str'>\n",
      "<class 'bool'>\n",
      "<class 'float'>\n"
     ]
    }
   ],
   "source": [
    "a = 2\n",
    "b = \"B\"\n",
    "c = True\n",
    "d = 3.1415\n",
    "\n",
    "print(type(a))\n",
    "print(type(b))\n",
    "print(type(c))\n",
    "print(type(d))\n"
   ]
  },
  {
   "cell_type": "code",
   "execution_count": 6,
   "id": "a9cd7523",
   "metadata": {},
   "outputs": [
    {
     "name": "stdout",
     "output_type": "stream",
     "text": [
      "<class 'int'> 1\n"
     ]
    }
   ],
   "source": [
    "e = int(c)\n",
    "print(type(e), e)"
   ]
  },
  {
   "cell_type": "markdown",
   "id": "8184aee6",
   "metadata": {},
   "source": [
    "# VARIABLES"
   ]
  },
  {
   "cell_type": "code",
   "execution_count": 25,
   "id": "d9f3154c",
   "metadata": {},
   "outputs": [
    {
     "name": "stdout",
     "output_type": "stream",
     "text": [
      "3 + 10 = 13\n"
     ]
    }
   ],
   "source": [
    "x = 3\n",
    "y = 10\n",
    "result = x + y\n",
    "print(x, '+', y, '=', result)"
   ]
  },
  {
   "cell_type": "code",
   "execution_count": 26,
   "id": "26f01155",
   "metadata": {},
   "outputs": [
    {
     "name": "stdout",
     "output_type": "stream",
     "text": [
      "3354.0764\n"
     ]
    }
   ],
   "source": [
    "w = 245.54\n",
    "h = 13.66\n",
    "a = w * h\n",
    "print(a)"
   ]
  },
  {
   "cell_type": "markdown",
   "id": "26cb842a",
   "metadata": {},
   "source": [
    "# STRINGS"
   ]
  },
  {
   "cell_type": "code",
   "execution_count": 27,
   "id": "87900758",
   "metadata": {},
   "outputs": [
    {
     "name": "stdout",
     "output_type": "stream",
     "text": [
      "Digvijay Chouhan\n"
     ]
    }
   ],
   "source": [
    "name = \"Digvijay\" + \" \" + \"Chouhan\"\n",
    "print(name)"
   ]
  },
  {
   "cell_type": "code",
   "execution_count": 31,
   "id": "0de00ed3",
   "metadata": {},
   "outputs": [
    {
     "name": "stdout",
     "output_type": "stream",
     "text": [
      "Hello John Doe\n",
      "Hello John Doe\n",
      "Hello John Doe\n"
     ]
    }
   ],
   "source": [
    "# string formatting\n",
    "name = \"John Doe\"\n",
    "\n",
    "print(\"Hello {}\".format(name))\n",
    "print(f\"Hello {name}\")                #python 3.6 onwards\n",
    "print(\"Hello %s\" % name)              #python 2 format"
   ]
  },
  {
   "cell_type": "code",
   "execution_count": 32,
   "id": "854fd6be",
   "metadata": {},
   "outputs": [
    {
     "name": "stdout",
     "output_type": "stream",
     "text": [
      "H\n",
      "e\n",
      "o\n"
     ]
    }
   ],
   "source": [
    "word = \"Hello\"\n",
    "print(word[0])\n",
    "print(word[1])\n",
    "print(word[-1])"
   ]
  },
  {
   "cell_type": "code",
   "execution_count": 33,
   "id": "c6ca152a",
   "metadata": {},
   "outputs": [
    {
     "name": "stdout",
     "output_type": "stream",
     "text": [
      "He\n"
     ]
    }
   ],
   "source": [
    "# string slicing\n",
    "print(word[0:2])"
   ]
  },
  {
   "cell_type": "code",
   "execution_count": 34,
   "id": "a552ef5b",
   "metadata": {},
   "outputs": [
    {
     "name": "stdout",
     "output_type": "stream",
     "text": [
      "Hlo\n"
     ]
    }
   ],
   "source": [
    "print(word[0:5:2])    # slicing with step"
   ]
  },
  {
   "cell_type": "code",
   "execution_count": 37,
   "id": "7c23d934",
   "metadata": {},
   "outputs": [
    {
     "name": "stdout",
     "output_type": "stream",
     "text": [
      "3 True 3.1415\n"
     ]
    }
   ],
   "source": [
    "print(x, c, d)"
   ]
  },
  {
   "cell_type": "code",
   "execution_count": 46,
   "id": "725623f2",
   "metadata": {},
   "outputs": [
    {
     "name": "stdout",
     "output_type": "stream",
     "text": [
      "John Doe\n",
      "JOHN DOE\n",
      "Hello there.\n"
     ]
    }
   ],
   "source": [
    "# String Manipulation\n",
    "\n",
    "name = \"john doe\"\n",
    "print(name.title())\n",
    "print(name.upper())\n",
    "\n",
    "words = \"Hello there!\"\n",
    "print(words.replace('!','.'))"
   ]
  },
  {
   "cell_type": "code",
   "execution_count": 40,
   "id": "4c03fe1e",
   "metadata": {},
   "outputs": [
    {
     "name": "stdout",
     "output_type": "stream",
     "text": [
      "5\n"
     ]
    }
   ],
   "source": [
    "s = \"Look above the world so high\"\n",
    "print(s.find('a'))"
   ]
  },
  {
   "cell_type": "code",
   "execution_count": 44,
   "id": "1928e6de",
   "metadata": {},
   "outputs": [
    {
     "name": "stdout",
     "output_type": "stream",
     "text": [
      "john\n",
      "john   \n",
      "    john\n"
     ]
    }
   ],
   "source": [
    "name = \"    john   \"\n",
    "print(name.strip())\n",
    "print(name.lstrip())\n",
    "print(name.rstrip())"
   ]
  },
  {
   "cell_type": "code",
   "execution_count": 45,
   "id": "e4470f27",
   "metadata": {},
   "outputs": [
    {
     "name": "stdout",
     "output_type": "stream",
     "text": [
      "['Look', 'above', 'the', 'world', 'so', 'high']\n"
     ]
    }
   ],
   "source": [
    "print(s.split())"
   ]
  },
  {
   "cell_type": "code",
   "execution_count": 48,
   "id": "6bec473a",
   "metadata": {},
   "outputs": [
    {
     "name": "stdout",
     "output_type": "stream",
     "text": [
      "John Doe\n"
     ]
    }
   ],
   "source": [
    "name = \"$$John Doe\"\n",
    "print(name.strip('$'))"
   ]
  },
  {
   "cell_type": "markdown",
   "id": "1c0463b3",
   "metadata": {},
   "source": [
    "# RECEIPT PROGRAM"
   ]
  },
  {
   "cell_type": "code",
   "execution_count": 49,
   "id": "c4b71afd",
   "metadata": {},
   "outputs": [
    {
     "name": "stdout",
     "output_type": "stream",
     "text": [
      "**************************************************\n"
     ]
    }
   ],
   "source": [
    "print(\"*\" * 50)"
   ]
  },
  {
   "cell_type": "code",
   "execution_count": 72,
   "id": "f586c9ea",
   "metadata": {},
   "outputs": [
    {
     "name": "stdout",
     "output_type": "stream",
     "text": [
      "**************************************************\n",
      "\t\tCoding Temple Inc.\n",
      "\t\t283 Franklin St.\n",
      "\t\tBoston, MA\n",
      "==================================================\n",
      "\tBooks\t\t$49.95\n",
      "\tComputer\t$579.99\n",
      "\tMonitor\t\t$124.89\n",
      "==================================================\n",
      "\t\t\tTotal\n",
      "\t\t\t$754.83\n",
      "==================================================\n",
      "\tThansks for shopping with us today!\n",
      "**************************************************\n"
     ]
    }
   ],
   "source": [
    "# variable declaration\n",
    "company_name = \"coding temple inc.\"\n",
    "company_address = \"283 Franklin St.\"\n",
    "company_city = \"Boston, MA\"\n",
    "\n",
    "p1_name, p1_price = \"Books\", 49.95\n",
    "p2_name, p2_price = \"Computer\", 579.99\n",
    "p3_name, p3_price = \"Monitor\", 124.89\n",
    "total = p1_price + p2_price + p3_price\n",
    "\n",
    "message = \"Thansks for shopping with us today!\"\n",
    "\n",
    "print(\"*\" * 50)\n",
    "print(\"\\t\\t{}\".format(company_name.title()) )\n",
    "print(\"\\t\\t{}\".format(company_address))\n",
    "print(\"\\t\\t{}\".format(company_city))\n",
    "print(\"=\" * 50)\n",
    "print(\"\\t{}\\t\\t${}\".format(p1_name, p1_price))\n",
    "print(\"\\t{}\\t${}\".format(p2_name, p2_price))\n",
    "print(\"\\t{}\\t\\t${}\".format(p3_name, p3_price))\n",
    "print(\"=\" * 50)\n",
    "print(\"\\t\\t\\tTotal\")\n",
    "print(\"\\t\\t\\t${}\".format(total))\n",
    "print(\"=\" * 50)\n",
    "print(\"\\t{}\".format(message))\n",
    "print(\"*\" * 50)"
   ]
  }
 ],
 "metadata": {
  "kernelspec": {
   "display_name": "Python 3 (ipykernel)",
   "language": "python",
   "name": "python3"
  },
  "language_info": {
   "codemirror_mode": {
    "name": "ipython",
    "version": 3
   },
   "file_extension": ".py",
   "mimetype": "text/x-python",
   "name": "python",
   "nbconvert_exporter": "python",
   "pygments_lexer": "ipython3",
   "version": "3.9.12"
  }
 },
 "nbformat": 4,
 "nbformat_minor": 5
}

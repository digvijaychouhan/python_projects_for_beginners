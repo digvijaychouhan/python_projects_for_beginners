{
 "cells": [
  {
   "cell_type": "markdown",
   "id": "d717c9fd",
   "metadata": {},
   "source": [
    "# Refactored Hangman"
   ]
  },
  {
   "cell_type": "code",
   "execution_count": 17,
   "id": "dac1a5e9",
   "metadata": {},
   "outputs": [
    {
     "name": "stdout",
     "output_type": "stream",
     "text": [
      "Word to guess: _ _ _ _\n",
      "Lives: 7\n",
      "Your guessed letters: []\n",
      "Type quit or guess a letter: l\n",
      "Incorrect, you lost a life.\n",
      "Word to guess: _ _ _ _\n",
      "Lives: 6\n",
      "Your guessed letters: ['l']\n",
      "Type quit or guess a letter: r\n",
      "You've guessed correctly!\n",
      "Word to guess: _ r _ _\n",
      "Lives: 6\n",
      "Your guessed letters: ['l', 'r']\n",
      "Type quit or guess a letter: t\n",
      "You've guessed correctly!\n",
      "Word to guess: t r _ _\n",
      "Lives: 6\n",
      "Your guessed letters: ['l', 'r', 't']\n",
      "Type quit or guess a letter: e\n",
      "You've guessed correctly!\n",
      "Congratulations, you guessed it correctly!\n"
     ]
    }
   ],
   "source": [
    "from random import choice\n",
    "\n",
    "def random_word():\n",
    "    words = [\"gamma\", \"alpha\", \"beta\", \"omega\", \"doctrine\", \"classic\", \"horse\", \"tree\", \"python\"]\n",
    "    word = choice(words)\n",
    "    return word\n",
    "\n",
    "def main():\n",
    "    guessed, lives = [], 7\n",
    "    game_over = False\n",
    "    word = random_word()\n",
    "    guesses = [ \"_\" ] * len(word)\n",
    "\n",
    "    while not game_over:\n",
    "        hidden_word = \" \".join(guesses)\n",
    "        print(\"Word to guess: {}\".format(hidden_word) )\n",
    "        print(\"Lives: {}\".format(lives))\n",
    "\n",
    "        print(\"Your guessed letters: {}\".format(guessed) )\n",
    "        ans = input(\"Type quit or guess a letter: \").lower()  \n",
    "\n",
    "        if ans == \"quit\":\n",
    "            print(\"Thanks for Playing.\")\n",
    "            game_over = True\n",
    "        elif ans in word and ans not in guessed:\n",
    "            print(\"You've guessed correctly!\")\n",
    "            for i in range( len(word) ):\n",
    "                if ans == word[i]:\n",
    "                    guesses[i] = ans\n",
    "        elif ans in guessed:\n",
    "            print(\"You already guessed that. Try again.\")  \n",
    "        else:\n",
    "            lives -= 1\n",
    "            print(\"Incorrect, you lost a life.\")\n",
    "    \n",
    "        if ans not in guessed:\n",
    "            guessed.append(ans)\n",
    "\n",
    "        if lives <= 0:\n",
    "            print(\"You've lost all lives, you lost!\")\n",
    "            game_over = True\n",
    "        elif word == \"\".join(guesses):\n",
    "            print(\"Congratulations, you guessed it correctly!\")\n",
    "            game_over = True\n",
    "\n",
    "main()"
   ]
  },
  {
   "cell_type": "markdown",
   "id": "a9b49dc4",
   "metadata": {},
   "source": [
    "# shopping cart with index"
   ]
  },
  {
   "cell_type": "code",
   "execution_count": 1,
   "id": "3dc2caa1",
   "metadata": {},
   "outputs": [
    {
     "name": "stdout",
     "output_type": "stream",
     "text": [
      "Your cart is empty.\n",
      "Thanks for using the program.\n"
     ]
    }
   ],
   "source": [
    "from IPython.display import clear_output\n",
    "\n",
    "cart = []\n",
    "\n",
    "def addItem(item):\n",
    "    clear_output()\n",
    "    cart.append(item)\n",
    "    print(\"{} has been added.\".format(item))\n",
    "\n",
    "def removeItem(item):\n",
    "    clear_output()\n",
    "    try:\n",
    "        temp = cart[item - 1]\n",
    "        del cart[item - 1]\n",
    "        print(\"{} has been removed.\".format(temp))\n",
    "    except:\n",
    "        print(\"Sorry could not remove that item.\")\n",
    "        \n",
    "def clearCart():\n",
    "    clear_output()\n",
    "    cart.clear()\n",
    "    print(\"Your cart is now empty.\")\n",
    "\n",
    "def showCart():\n",
    "    clear_output()\n",
    "    if cart:\n",
    "        print(\"Here is your cart:\")\n",
    "        for num in range(len(cart)): \n",
    "            print(\"{}) {}\".format(num + 1, cart[num]))\n",
    "    else:\n",
    "        print(\"Your cart is empty.\")\n",
    "\n",
    "def main():\n",
    "    done = False\n",
    "    while not done:\n",
    "        ans = input(\"What would you like to do (add/remove/clear/show): \")\n",
    "        if ans == \"quit\":\n",
    "            done = True\n",
    "            showCart()\n",
    "            print(\"Thanks for using the program.\")\n",
    "        elif ans == \"add\":\n",
    "            item = input(\"What would you like to add? \").title()\n",
    "            addItem(item)\n",
    "        elif ans == \"remove\":\n",
    "            item = int(input(\"What would you like to remove? \"))\n",
    "            removeItem(item)\n",
    "        elif ans == \"clear\":\n",
    "            clearCart()\n",
    "        elif ans == \"show\":\n",
    "            showCart()\n",
    "        else:\n",
    "            print(\"Sorry not a valid choice.\")\n",
    "\n",
    "main()"
   ]
  },
  {
   "cell_type": "code",
   "execution_count": null,
   "id": "21243f3e",
   "metadata": {},
   "outputs": [],
   "source": []
  }
 ],
 "metadata": {
  "kernelspec": {
   "display_name": "Python 3 (ipykernel)",
   "language": "python",
   "name": "python3"
  },
  "language_info": {
   "codemirror_mode": {
    "name": "ipython",
    "version": 3
   },
   "file_extension": ".py",
   "mimetype": "text/x-python",
   "name": "python",
   "nbconvert_exporter": "python",
   "pygments_lexer": "ipython3",
   "version": "3.9.12"
  }
 },
 "nbformat": 4,
 "nbformat_minor": 5
}

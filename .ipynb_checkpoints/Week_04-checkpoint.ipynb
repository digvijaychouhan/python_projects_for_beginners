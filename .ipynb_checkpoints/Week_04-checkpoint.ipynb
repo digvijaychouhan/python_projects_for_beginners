{
 "cells": [
  {
   "cell_type": "markdown",
   "id": "46c8b59e",
   "metadata": {},
   "source": [
    "# Lists and Loops"
   ]
  },
  {
   "cell_type": "code",
   "execution_count": 1,
   "id": "51270c48",
   "metadata": {},
   "outputs": [
    {
     "name": "stdout",
     "output_type": "stream",
     "text": [
      "[2, 5, 16, 20, 8]\n"
     ]
    }
   ],
   "source": [
    "# declaring a list of numbers\n",
    "nums = [2, 5, 16, 20, 8]\n",
    "print(nums)"
   ]
  },
  {
   "cell_type": "code",
   "execution_count": 2,
   "id": "53ecfb3c",
   "metadata": {},
   "outputs": [
    {
     "name": "stdout",
     "output_type": "stream",
     "text": [
      "16\n"
     ]
    }
   ],
   "source": [
    "# accessing elements within a list\n",
    "print(nums[2])"
   ]
  },
  {
   "cell_type": "code",
   "execution_count": null,
   "id": "9d62c9c4",
   "metadata": {},
   "outputs": [],
   "source": [
    "num = nums[1]\n",
    "print(num)"
   ]
  },
  {
   "cell_type": "code",
   "execution_count": null,
   "id": "f636697e",
   "metadata": {},
   "outputs": [],
   "source": [
    "# declaring a list of mixed data types\n",
    "num = 4\n",
    "data = [12, 3.14, \"Tiger\", num, True]\n",
    "print(data)"
   ]
  },
  {
   "cell_type": "code",
   "execution_count": null,
   "id": "386096dd",
   "metadata": {},
   "outputs": [],
   "source": [
    "# lists within lists\n",
    "new_list = [5, \"book\", [25, \"guess\"], True]\n",
    "print(new_list)"
   ]
  },
  {
   "cell_type": "code",
   "execution_count": null,
   "id": "101b8059",
   "metadata": {},
   "outputs": [],
   "source": [
    "print(new_list[2])"
   ]
  },
  {
   "cell_type": "code",
   "execution_count": null,
   "id": "3fea083d",
   "metadata": {},
   "outputs": [],
   "source": [
    "print(new_list[2][0])"
   ]
  },
  {
   "cell_type": "code",
   "execution_count": null,
   "id": "7a533827",
   "metadata": {},
   "outputs": [],
   "source": [
    "print(new_list[2][1])"
   ]
  },
  {
   "cell_type": "code",
   "execution_count": null,
   "id": "d24cb457",
   "metadata": {
    "scrolled": true
   },
   "outputs": [],
   "source": [
    "print(new_list[0])\n",
    "new_list[0] = 12\n",
    "print(new_list[0])"
   ]
  },
  {
   "cell_type": "code",
   "execution_count": null,
   "id": "4296a3bd",
   "metadata": {},
   "outputs": [],
   "source": [
    "a = [5, 10]\n",
    "b = a\n",
    "print(\"a: {}\\t b: {}\".format(a, b))"
   ]
  },
  {
   "cell_type": "code",
   "execution_count": null,
   "id": "8f6cd4b3",
   "metadata": {},
   "outputs": [],
   "source": [
    "print(\"Location a[0]: {}\\t Location b[0]: {}\".format(id(a[0]), id(b[0])) )"
   ]
  },
  {
   "cell_type": "code",
   "execution_count": null,
   "id": "d06e26bd",
   "metadata": {},
   "outputs": [],
   "source": [
    "a[0] = 20 \n",
    "print(\"a: {}\\t b: {}\".format(a, b))"
   ]
  },
  {
   "cell_type": "code",
   "execution_count": null,
   "id": "ce9ae802",
   "metadata": {},
   "outputs": [],
   "source": [
    "# using [:] to copy a list\n",
    "data = [5, 2, 3, 0, 12]\n",
    "data_copy = data[:]\n",
    "print(data_copy)"
   ]
  },
  {
   "cell_type": "code",
   "execution_count": null,
   "id": "45912a6a",
   "metadata": {},
   "outputs": [],
   "source": [
    "data_copy2 = data.copy()\n",
    "print(data_copy2)"
   ]
  },
  {
   "cell_type": "code",
   "execution_count": null,
   "id": "b9dc2da1",
   "metadata": {},
   "outputs": [],
   "source": [
    "# print even numbers\n",
    "for num in range(2, 10, 2):\n",
    "    print(num)"
   ]
  },
  {
   "cell_type": "code",
   "execution_count": null,
   "id": "15b73281",
   "metadata": {},
   "outputs": [],
   "source": [
    "# print odd numbers\n",
    "for num in range(3, 100, 3):\n",
    "    print(num)"
   ]
  },
  {
   "cell_type": "code",
   "execution_count": null,
   "id": "d144f281",
   "metadata": {},
   "outputs": [],
   "source": [
    "vowels = ['a', 'e', 'i', 'o', 'u']\n",
    "user_input = input(\"Enter a word: \")\n",
    "for vowel in vowels:\n",
    "    if vowel in user_input:\n",
    "        print(vowel)\n",
    "    else:\n",
    "        continue"
   ]
  },
  {
   "cell_type": "code",
   "execution_count": null,
   "id": "71481f10",
   "metadata": {},
   "outputs": [],
   "source": [
    "# lists slicing\n",
    "nums = [5, 10, 15, 20, 25, 30, 35, 40]\n",
    "lenght = len(nums)\n",
    "print(lenght)"
   ]
  },
  {
   "cell_type": "code",
   "execution_count": null,
   "id": "1de9bc0c",
   "metadata": {},
   "outputs": [],
   "source": [
    "print( nums[ 1 : 3 ])"
   ]
  },
  {
   "cell_type": "code",
   "execution_count": null,
   "id": "43286b6c",
   "metadata": {},
   "outputs": [],
   "source": [
    "print( nums[ : 2 ])"
   ]
  },
  {
   "cell_type": "code",
   "execution_count": null,
   "id": "bd710398",
   "metadata": {},
   "outputs": [],
   "source": [
    "print( nums[ : : 2 ])"
   ]
  },
  {
   "cell_type": "code",
   "execution_count": null,
   "id": "72ff985d",
   "metadata": {},
   "outputs": [],
   "source": [
    "print( nums[ -2 : ])"
   ]
  },
  {
   "cell_type": "code",
   "execution_count": null,
   "id": "5959eaa7",
   "metadata": {},
   "outputs": [],
   "source": [
    "nums.append(45)\n",
    "print(nums)"
   ]
  },
  {
   "cell_type": "code",
   "execution_count": null,
   "id": "1adad428",
   "metadata": {},
   "outputs": [],
   "source": [
    "nums.insert(0, 0)\n",
    "print(nums)"
   ]
  },
  {
   "cell_type": "code",
   "execution_count": null,
   "id": "4f419e5e",
   "metadata": {},
   "outputs": [],
   "source": [
    "nums.pop()\n",
    "print(nums)"
   ]
  },
  {
   "cell_type": "code",
   "execution_count": null,
   "id": "abbef585",
   "metadata": {},
   "outputs": [],
   "source": [
    "nums.remove(20)\n",
    "print(nums)"
   ]
  },
  {
   "cell_type": "code",
   "execution_count": null,
   "id": "94d8bc59",
   "metadata": {},
   "outputs": [],
   "source": [
    "print(min(nums))"
   ]
  },
  {
   "cell_type": "code",
   "execution_count": null,
   "id": "446e74b0",
   "metadata": {},
   "outputs": [],
   "source": [
    "print(max(nums))"
   ]
  },
  {
   "cell_type": "code",
   "execution_count": null,
   "id": "204ef325",
   "metadata": {},
   "outputs": [],
   "source": [
    "print(sum(nums))"
   ]
  },
  {
   "cell_type": "code",
   "execution_count": null,
   "id": "cb81ae20",
   "metadata": {},
   "outputs": [],
   "source": [
    "nums = [6, 8, 0, 2, 1, 9]\n",
    "print(sorted(nums))"
   ]
  },
  {
   "cell_type": "code",
   "execution_count": null,
   "id": "1468628d",
   "metadata": {},
   "outputs": [],
   "source": [
    "print(nums)"
   ]
  },
  {
   "cell_type": "code",
   "execution_count": null,
   "id": "861cf9b1",
   "metadata": {},
   "outputs": [],
   "source": [
    "nums.sort()\n",
    "print(nums)"
   ]
  },
  {
   "cell_type": "code",
   "execution_count": null,
   "id": "f17d470e",
   "metadata": {},
   "outputs": [],
   "source": [
    "# removing a duplicate list item\n",
    "names = [\"Bob\", \"Jack\", \"Rob\", \"Bob\", \"Jobs\"]\n",
    "while \"Bob\" in names:\n",
    "    names.remove(\"Bob\")\n",
    "print(names)"
   ]
  },
  {
   "cell_type": "code",
   "execution_count": null,
   "id": "f50b86cc",
   "metadata": {},
   "outputs": [],
   "source": [
    "names.append(\"Jack\")\n",
    "print(names)\n",
    "for name in names:\n",
    "    if name == \"Jack\":\n",
    "        names.remove(\"Jack\")\n",
    "print(names)"
   ]
  },
  {
   "cell_type": "code",
   "execution_count": null,
   "id": "6c6b4551",
   "metadata": {},
   "outputs": [],
   "source": [
    "names = [\"Bob\", \"Kenny\", \"Amanda\", \"Bob\", \"Kenny\"]\n",
    "\n",
    "for name in names:\n",
    "    if names.count(name) > 1:\n",
    "        names.remove(name)\n",
    "print(names)\n"
   ]
  },
  {
   "cell_type": "markdown",
   "id": "f0ad5a4b",
   "metadata": {},
   "source": [
    "# Hangman"
   ]
  },
  {
   "cell_type": "code",
   "execution_count": 4,
   "id": "307281bc",
   "metadata": {},
   "outputs": [
    {
     "name": "stdout",
     "output_type": "stream",
     "text": [
      "You've guessed correctly!\n",
      "Congratulations, you guessed it correctly!\n"
     ]
    }
   ],
   "source": [
    "from random import choice\n",
    "from IPython.display import clear_output\n",
    "\n",
    "words = [\"gamma\", \"alpha\", \"beta\", \"omega\", \"doctrine\", \"classic\", \"horse\", \"tree\", \"python\"]\n",
    "word = choice(words)\n",
    "guessed, lives, game_over = [], 7, False\n",
    "guesses = [ \"_\" ] * len(word)\n",
    "\n",
    "while not game_over:\n",
    "    hidden_word = \" \".join(guesses)\n",
    "    print(\"Your guessed letters: {}\".format(guessed) )\n",
    "    print(\"Word to guess: {}\".format(hidden_word) )\n",
    "    print(\"Lives: {}\".format(lives))\n",
    "    \n",
    "    ans = input(\"Type quit or guess a letter: \").lower()  \n",
    "    clear_output()\n",
    "        \n",
    "    if ans == \"quit\":\n",
    "        print(\"Thanks for Playing.\")\n",
    "        game_over = True\n",
    "    elif ans in word and ans not in guessed:\n",
    "        print(\"You've guessed correctly!\")\n",
    "        for i in range( len(word) ):\n",
    "            if ans == word[i]:\n",
    "                guesses[i] = ans\n",
    "    elif ans in guessed:\n",
    "        print(\"You already guessed that. Try again.\")  \n",
    "    else:\n",
    "        lives -= 1\n",
    "        print(\"Incorrect, you lost a life.\")\n",
    "    \n",
    "    if ans not in guessed:\n",
    "        guessed.append(ans)\n",
    "    \n",
    "    if lives <= 0:\n",
    "        print(\"You've lost all lives, you lost!\")\n",
    "        game_over = True\n",
    "    elif word == \"\".join(guesses):\n",
    "        print(\"Congratulations, you guessed it correctly!\")\n",
    "        game_over = True"
   ]
  },
  {
   "cell_type": "code",
   "execution_count": null,
   "id": "f3aa6188",
   "metadata": {},
   "outputs": [],
   "source": []
  }
 ],
 "metadata": {
  "kernelspec": {
   "display_name": "Python 3 (ipykernel)",
   "language": "python",
   "name": "python3"
  },
  "language_info": {
   "codemirror_mode": {
    "name": "ipython",
    "version": 3
   },
   "file_extension": ".py",
   "mimetype": "text/x-python",
   "name": "python",
   "nbconvert_exporter": "python",
   "pygments_lexer": "ipython3",
   "version": "3.9.12"
  }
 },
 "nbformat": 4,
 "nbformat_minor": 5
}
